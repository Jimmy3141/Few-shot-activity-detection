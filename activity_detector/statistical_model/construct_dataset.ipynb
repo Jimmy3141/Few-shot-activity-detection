{
 "cells": [
  {
   "cell_type": "code",
   "execution_count": 14,
   "metadata": {
    "collapsed": true
   },
   "outputs": [],
   "source": [
    "import pandas as pd\n",
    "import numpy as np\n",
    "import matplotlib.pyplot as plt\n",
    "import pickle\n",
    "import random"
   ]
  },
  {
   "cell_type": "code",
   "execution_count": 6,
   "outputs": [],
   "source": [
    "sample_num = 10\n",
    "appliance_lst = [\"kettle\",\"breadmaker\",\"gas\",\"microwave\",\"toaster\"]\n",
    "\n",
    "def load_appliance_traces(appliance_lst, sample_num):\n",
    "    data = {}\n",
    "    for appliance in appliance_lst:\n",
    "        np_array = np.load(r'C:\\Users\\ASUS\\Desktop\\Few-shot NILM (2)\\gan_training\\rtsgan\\training_data\\cooking\\{}\\{}_{}.npy'.format(appliance,appliance,sample_num))\n",
    "        data[appliance] = np_array\n",
    "    return data"
   ],
   "metadata": {
    "collapsed": false
   }
  },
  {
   "cell_type": "code",
   "execution_count": 7,
   "outputs": [],
   "source": [
    "appliance_data = load_appliance_traces(appliance_lst, sample_num)\n",
    "with open(r'C:\\Users\\ASUS\\Desktop\\Few-shot NILM (2)\\activity_annotation\\stochastic model\\cooking\\100days_appliance.pkl',\n",
    "          'rb') as f:\n",
    "    appliance_time_dic = pickle.load(f)\n",
    "with open(r'C:\\Users\\ASUS\\Desktop\\Few-shot NILM (2)\\activity_annotation\\stochastic model\\cooking\\100days_labels.pkl',\n",
    "          'rb') as f:\n",
    "    activity_labels = pickle.load(f)"
   ],
   "metadata": {
    "collapsed": false
   }
  },
  {
   "cell_type": "code",
   "execution_count": 67,
   "outputs": [
    {
     "data": {
      "text/plain": "                     aggregate\n2024-09-04 00:00:00        0.0\n2024-09-04 00:00:30        0.0\n2024-09-04 00:01:00        0.0\n2024-09-04 00:01:30        0.0\n2024-09-04 00:02:00        0.0",
      "text/html": "<div>\n<style scoped>\n    .dataframe tbody tr th:only-of-type {\n        vertical-align: middle;\n    }\n\n    .dataframe tbody tr th {\n        vertical-align: top;\n    }\n\n    .dataframe thead th {\n        text-align: right;\n    }\n</style>\n<table border=\"1\" class=\"dataframe\">\n  <thead>\n    <tr style=\"text-align: right;\">\n      <th></th>\n      <th>aggregate</th>\n    </tr>\n  </thead>\n  <tbody>\n    <tr>\n      <th>2024-09-04 00:00:00</th>\n      <td>0.0</td>\n    </tr>\n    <tr>\n      <th>2024-09-04 00:00:30</th>\n      <td>0.0</td>\n    </tr>\n    <tr>\n      <th>2024-09-04 00:01:00</th>\n      <td>0.0</td>\n    </tr>\n    <tr>\n      <th>2024-09-04 00:01:30</th>\n      <td>0.0</td>\n    </tr>\n    <tr>\n      <th>2024-09-04 00:02:00</th>\n      <td>0.0</td>\n    </tr>\n  </tbody>\n</table>\n</div>"
     },
     "execution_count": 67,
     "metadata": {},
     "output_type": "execute_result"
    }
   ],
   "source": [
    "\n",
    "from datetime import datetime, timedelta\n",
    "\n",
    "# 创建时间序列\n",
    "start_date = '2024-09-04'\n",
    "end_date = '2024-12-14'\n",
    "date_range = pd.date_range(start=start_date, end=end_date, freq='30S')\n",
    "df = pd.DataFrame(index=date_range, data=[0]*len(date_range),columns=[\"aggregate\"])\n",
    "appliance_level_consumption = {}\n",
    "for i in appliance_lst:\n",
    "    appliance_level_consumption[i] = pd.DataFrame(index=date_range, data=[0]*len(date_range),columns=[\"aggregate\"])\n",
    "\n",
    "# 遍历用电器，插入数据\n",
    "for appliance, times in appliance_time_dic.items():\n",
    "    for start_time in times:\n",
    "        # 获取对应的时间序列\n",
    "        appliance_dataset = appliance_data[appliance]\n",
    "        index = random.randint(0,len(appliance_dataset)-1)\n",
    "        time_series = appliance_dataset[index]\n",
    "        # 计算结束时间\n",
    "        end_time = start_time + (timedelta(seconds=len(time_series)-1) * 30)\n",
    "        appliance_level_consumption[appliance][str(start_time):str(end_time)] += time_series\n",
    "        # 在DataFrame中插入数据\n",
    "        df[str(start_time):str(end_time)] +=time_series\n",
    "\n",
    "df.head()  # 显示DataFrame的前几行以检查结果"
   ],
   "metadata": {
    "collapsed": false
   }
  },
  {
   "cell_type": "code",
   "execution_count": 72,
   "outputs": [],
   "source": [
    "for i in appliance_lst:\n",
    "    appliance_level_consumption[i].to_csv(\"{}.csv\".format(i))"
   ],
   "metadata": {
    "collapsed": false
   }
  },
  {
   "cell_type": "code",
   "execution_count": 74,
   "outputs": [
    {
     "data": {
      "text/plain": "[<matplotlib.lines.Line2D at 0x1c3237d0130>]"
     },
     "execution_count": 74,
     "metadata": {},
     "output_type": "execute_result"
    },
    {
     "data": {
      "text/plain": "<Figure size 432x288 with 1 Axes>",
      "image/png": "[encoded data removed]"
     },
     "metadata": {
      "needs_background": "light"
     },
     "output_type": "display_data"
    }
   ],
   "source": [
    "plt.plot(appliance_level_consumption[\"kettle\"][\"2024-09-05 05:00:00\":\"2024-09-10 10:00:00\"])"
   ],
   "metadata": {
    "collapsed": false
   }
  },
  {
   "cell_type": "code",
   "execution_count": 49,
   "outputs": [
    {
     "data": {
      "text/plain": "Timestamp('2024-12-13 03:04:00')"
     },
     "execution_count": 49,
     "metadata": {},
     "output_type": "execute_result"
    }
   ],
   "source": [
    "start_time"
   ],
   "metadata": {
    "collapsed": false
   }
  },
  {
   "cell_type": "code",
   "execution_count": 62,
   "outputs": [],
   "source": [
    "df.to_csv(\"cooking_100days.csv\")"
   ],
   "metadata": {
    "collapsed": false
   }
  },
  {
   "cell_type": "code",
   "execution_count": 61,
   "outputs": [
    {
     "name": "stdout",
     "output_type": "stream",
     "text": [
      "                     aggregate\n",
      "2024-09-04 00:00:00        0.0\n",
      "2024-09-04 00:00:30        0.0\n",
      "2024-09-04 00:01:00        0.0\n",
      "2024-09-04 00:01:30        0.0\n",
      "2024-09-04 00:02:00        0.0\n",
      "...                        ...\n",
      "2024-09-08 23:58:00        0.0\n",
      "2024-09-08 23:58:30        0.0\n",
      "2024-09-08 23:59:00        0.0\n",
      "2024-09-08 23:59:30        0.0\n",
      "2024-09-09 00:00:00        0.0\n",
      "\n",
      "[14401 rows x 1 columns]\n"
     ]
    }
   ],
   "source": [
    "print(df[\"2024-09-04 00:00:00\":\"2024-09-09 00:00:00\"])"
   ],
   "metadata": {
    "collapsed": false
   }
  },
  {
   "cell_type": "code",
   "execution_count": null,
   "outputs": [],
   "source": [],
   "metadata": {
    "collapsed": false
   }
  }
 ],
 "metadata": {
  "kernelspec": {
   "display_name": "Python 3",
   "language": "python",
   "name": "python3"
  },
  "language_info": {
   "codemirror_mode": {
    "name": "ipython",
    "version": 2
   },
   "file_extension": ".py",
   "mimetype": "text/x-python",
   "name": "python",
   "nbconvert_exporter": "python",
   "pygments_lexer": "ipython2",
   "version": "2.7.6"
  }
 },
 "nbformat": 4,
 "nbformat_minor": 0
}
