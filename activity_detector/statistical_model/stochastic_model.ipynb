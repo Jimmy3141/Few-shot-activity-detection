{
 "cells": [
  {
   "cell_type": "code",
   "execution_count": 1,
   "metadata": {
    "collapsed": true
   },
   "outputs": [],
   "source": [
    "import numpy as np\n",
    "import pandas as pd\n",
    "import matplotlib.pyplot as plt\n",
    "import datetime\n",
    "import pickle\n",
    "from datetime import timedelta\n"
   ]
  },
  {
   "cell_type": "code",
   "execution_count": 2,
   "outputs": [],
   "source": [
    "def load_pkl(path):\n",
    "    with open(path, 'rb') as f:\n",
    "        data = pickle.load(f)\n",
    "    return data\n",
    "activity = \"cleaning\""
   ],
   "metadata": {
    "collapsed": false
   }
  },
  {
   "cell_type": "code",
   "execution_count": 3,
   "outputs": [
    {
     "ename": "FileNotFoundError",
     "evalue": "[Errno 2] No such file or directory: 'C:\\\\Users\\\\ASUS\\\\Desktop\\\\Few-shot NILM (2)\\\\activity_annotation\\\\stochastic model\\\\cleaning\\\\daily_activation_pro.pkl'",
     "output_type": "error",
     "traceback": [
      "\u001B[1;31m---------------------------------------------------------------------------\u001B[0m",
      "\u001B[1;31mFileNotFoundError\u001B[0m                         Traceback (most recent call last)",
      "\u001B[1;32m~\\AppData\\Local\\Temp/ipykernel_96600/2549417130.py\u001B[0m in \u001B[0;36m<module>\u001B[1;34m\u001B[0m\n\u001B[1;32m----> 1\u001B[1;33m \u001B[0mP\u001B[0m \u001B[1;33m=\u001B[0m \u001B[0mload_pkl\u001B[0m\u001B[1;33m(\u001B[0m\u001B[1;34mr\"C:\\Users\\ASUS\\Desktop\\Few-shot NILM (2)\\activity_annotation\\stochastic model\\{}\\daily_activation_pro.pkl\"\u001B[0m\u001B[1;33m.\u001B[0m\u001B[0mformat\u001B[0m\u001B[1;33m(\u001B[0m\u001B[0mactivity\u001B[0m\u001B[1;33m)\u001B[0m\u001B[1;33m)\u001B[0m\u001B[1;33m\u001B[0m\u001B[1;33m\u001B[0m\u001B[0m\n\u001B[0m\u001B[0;32m      2\u001B[0m \u001B[0mT_p\u001B[0m \u001B[1;33m=\u001B[0m \u001B[0mnp\u001B[0m\u001B[1;33m.\u001B[0m\u001B[0mload\u001B[0m\u001B[1;33m(\u001B[0m\u001B[1;34mr\"C:\\Users\\ASUS\\Desktop\\Few-shot NILM (2)\\activity_annotation\\stochastic model\\{}\\start_time_pro.npy\"\u001B[0m\u001B[1;33m.\u001B[0m\u001B[0mformat\u001B[0m\u001B[1;33m(\u001B[0m\u001B[0mactivity\u001B[0m\u001B[1;33m)\u001B[0m\u001B[1;33m)\u001B[0m\u001B[1;33m\u001B[0m\u001B[1;33m\u001B[0m\u001B[0m\n\u001B[0;32m      3\u001B[0m \u001B[0mD_p\u001B[0m \u001B[1;33m=\u001B[0m \u001B[0mload_pkl\u001B[0m\u001B[1;33m(\u001B[0m\u001B[1;34mr\"C:\\Users\\ASUS\\Desktop\\Few-shot NILM (2)\\activity_annotation\\stochastic model\\{}\\duration_lst.pkl\"\u001B[0m\u001B[1;33m.\u001B[0m\u001B[0mformat\u001B[0m\u001B[1;33m(\u001B[0m\u001B[0mactivity\u001B[0m\u001B[1;33m)\u001B[0m\u001B[1;33m)\u001B[0m\u001B[1;33m\u001B[0m\u001B[1;33m\u001B[0m\u001B[0m\n\u001B[0;32m      4\u001B[0m \u001B[0mC_a\u001B[0m \u001B[1;33m=\u001B[0m \u001B[0mload_pkl\u001B[0m\u001B[1;33m(\u001B[0m\u001B[1;34mr\"C:\\Users\\ASUS\\Desktop\\Few-shot NILM (2)\\activity_annotation\\stochastic model\\{}\\activity_appliance_activation_times.pkl\"\u001B[0m\u001B[1;33m.\u001B[0m\u001B[0mformat\u001B[0m\u001B[1;33m(\u001B[0m\u001B[0mactivity\u001B[0m\u001B[1;33m)\u001B[0m\u001B[1;33m)\u001B[0m\u001B[1;33m\u001B[0m\u001B[1;33m\u001B[0m\u001B[0m\n\u001B[0;32m      5\u001B[0m \u001B[0mU_a\u001B[0m \u001B[1;33m=\u001B[0m \u001B[0mload_pkl\u001B[0m\u001B[1;33m(\u001B[0m\u001B[1;34mr\"C:\\Users\\ASUS\\Desktop\\Few-shot NILM (2)\\activity_annotation\\stochastic model\\{}\\appliance_start_proba.pkl\"\u001B[0m\u001B[1;33m.\u001B[0m\u001B[0mformat\u001B[0m\u001B[1;33m(\u001B[0m\u001B[0mactivity\u001B[0m\u001B[1;33m)\u001B[0m\u001B[1;33m)\u001B[0m\u001B[1;33m\u001B[0m\u001B[1;33m\u001B[0m\u001B[0m\n",
      "\u001B[1;32m~\\AppData\\Local\\Temp/ipykernel_96600/3046352471.py\u001B[0m in \u001B[0;36mload_pkl\u001B[1;34m(path)\u001B[0m\n\u001B[0;32m      1\u001B[0m \u001B[1;32mdef\u001B[0m \u001B[0mload_pkl\u001B[0m\u001B[1;33m(\u001B[0m\u001B[0mpath\u001B[0m\u001B[1;33m)\u001B[0m\u001B[1;33m:\u001B[0m\u001B[1;33m\u001B[0m\u001B[1;33m\u001B[0m\u001B[0m\n\u001B[1;32m----> 2\u001B[1;33m     \u001B[1;32mwith\u001B[0m \u001B[0mopen\u001B[0m\u001B[1;33m(\u001B[0m\u001B[0mpath\u001B[0m\u001B[1;33m,\u001B[0m \u001B[1;34m'rb'\u001B[0m\u001B[1;33m)\u001B[0m \u001B[1;32mas\u001B[0m \u001B[0mf\u001B[0m\u001B[1;33m:\u001B[0m\u001B[1;33m\u001B[0m\u001B[1;33m\u001B[0m\u001B[0m\n\u001B[0m\u001B[0;32m      3\u001B[0m         \u001B[0mdata\u001B[0m \u001B[1;33m=\u001B[0m \u001B[0mpickle\u001B[0m\u001B[1;33m.\u001B[0m\u001B[0mload\u001B[0m\u001B[1;33m(\u001B[0m\u001B[0mf\u001B[0m\u001B[1;33m)\u001B[0m\u001B[1;33m\u001B[0m\u001B[1;33m\u001B[0m\u001B[0m\n\u001B[0;32m      4\u001B[0m     \u001B[1;32mreturn\u001B[0m \u001B[0mdata\u001B[0m\u001B[1;33m\u001B[0m\u001B[1;33m\u001B[0m\u001B[0m\n\u001B[0;32m      5\u001B[0m \u001B[0mactivity\u001B[0m \u001B[1;33m=\u001B[0m \u001B[1;34m\"cleaning\"\u001B[0m\u001B[1;33m\u001B[0m\u001B[1;33m\u001B[0m\u001B[0m\n",
      "\u001B[1;31mFileNotFoundError\u001B[0m: [Errno 2] No such file or directory: 'C:\\\\Users\\\\ASUS\\\\Desktop\\\\Few-shot NILM (2)\\\\activity_annotation\\\\stochastic model\\\\cleaning\\\\daily_activation_pro.pkl'"
     ]
    }
   ],
   "source": [
    "P = load_pkl(r\"C:\\Users\\ASUS\\Desktop\\Few-shot NILM (2)\\activity_annotation\\stochastic model\\{}\\daily_activation_pro.pkl\".format(activity))\n",
    "T_p = np.load(r\"C:\\Users\\ASUS\\Desktop\\Few-shot NILM (2)\\activity_annotation\\stochastic model\\{}\\start_time_pro.npy\".format(activity))\n",
    "D_p = load_pkl(r\"C:\\Users\\ASUS\\Desktop\\Few-shot NILM (2)\\activity_annotation\\stochastic model\\{}\\duration_lst.pkl\".format(activity))\n",
    "C_a = load_pkl(r\"C:\\Users\\ASUS\\Desktop\\Few-shot NILM (2)\\activity_annotation\\stochastic model\\{}\\activity_appliance_activation_times.pkl\".format(activity))\n",
    "U_a = load_pkl(r\"C:\\Users\\ASUS\\Desktop\\Few-shot NILM (2)\\activity_annotation\\stochastic model\\{}\\appliance_start_proba.pkl\".format(activity))\n"
   ],
   "metadata": {
    "collapsed": false
   }
  },
  {
   "cell_type": "code",
   "execution_count": 46,
   "outputs": [
    {
     "data": {
      "text/plain": "{'kettle': array([0, 0, 0, 0, 0, 0, 0, 0, 0, 0]),\n 'breadmaker': array([0, 0, 0, 0, 0, 0, 0, 0, 0, 0]),\n 'gas': array([0, 0, 0, 0, 0, 0, 0, 0, 0, 0]),\n 'microwave': array([0.1  , 0.075, 0.1  , 0.075, 0.025, 0.05 , 0.1  , 0.15 , 0.1  ,\n        0.225]),\n 'toaster': array([0.        , 0.13333333, 0.2       , 0.06666667, 0.06666667,\n        0.1       , 0.03333333, 0.1       , 0.06666667, 0.23333333])}"
     },
     "execution_count": 46,
     "metadata": {},
     "output_type": "execute_result"
    }
   ],
   "source": [
    "U_a[8]"
   ],
   "metadata": {
    "collapsed": false
   }
  },
  {
   "cell_type": "code",
   "execution_count": 47,
   "outputs": [
    {
     "data": {
      "text/plain": "1"
     },
     "execution_count": 47,
     "metadata": {},
     "output_type": "execute_result"
    }
   ],
   "source": [
    "import random\n",
    "\n",
    "def sample_occurrences(prob_dict):\n",
    "    \"\"\"\n",
    "    Sample an occurrence count based on the given probability distribution.\n",
    "\n",
    "    :param prob_dict: A dictionary where keys are occurrence counts and values are the corresponding probabilities.\n",
    "    :return: The sampled occurrence count.\n",
    "    \"\"\"\n",
    "    # Generate a list of cumulative probabilities\n",
    "    cumulative_probabilities = []\n",
    "    cumulative_sum = 0\n",
    "    for count, prob in prob_dict.items():\n",
    "        cumulative_sum += prob\n",
    "        cumulative_probabilities.append((cumulative_sum, count))\n",
    "\n",
    "    # Generate a random number and find the corresponding occurrence count\n",
    "    rand_num = random.random()\n",
    "    for cum_prob, count in cumulative_probabilities:\n",
    "        if rand_num < cum_prob:\n",
    "            return count\n",
    "# Test the function with the provided probability distribution\n",
    "prob_dict = {1: 0.5150684931506849, 2: 0.14246575342465753, 3: 0.010958904109589041, 0: 0.3315068493150685}\n",
    "sample_occurrences(prob_dict)\n"
   ],
   "metadata": {
    "collapsed": false
   }
  },
  {
   "cell_type": "code",
   "execution_count": 48,
   "outputs": [],
   "source": [
    "import numpy as np\n",
    "\n",
    "def sample_start(prob_array):\n",
    "    \"\"\"\n",
    "    Sample an event start time based on the given probability distribution.\n",
    "\n",
    "    :param prob_array: A numpy array where indices are event times and values are the corresponding probabilities.\n",
    "    :return: The sampled event start time.\n",
    "    \"\"\"\n",
    "    # Generate a cumulative sum of probabilities\n",
    "    cumulative_probabilities = np.cumsum(prob_array)\n",
    "\n",
    "    # Generate a random number and find the corresponding event start time\n",
    "    rand_num = random.random()\n",
    "    for idx, cum_prob in enumerate(cumulative_probabilities):\n",
    "        if rand_num < cum_prob:\n",
    "            start = idx\n",
    "            random_num = random.sample(range(0,60),1)[0]\n",
    "            start = timedelta(hours=start)+timedelta(minutes=random_num)\n",
    "            return start"
   ],
   "metadata": {
    "collapsed": false
   }
  },
  {
   "cell_type": "code",
   "execution_count": 49,
   "outputs": [],
   "source": [
    "def sample_relative_usage_time(prob_array):\n",
    "    \"\"\"\n",
    "    Sample an event start time based on the given probability distribution.\n",
    "\n",
    "    :param prob_array: A numpy array where indices are event times and values are the corresponding probabilities.\n",
    "    :return: The sampled event start time.\n",
    "    \"\"\"\n",
    "    # Generate a cumulative sum of probabilities\n",
    "    cumulative_probabilities = np.cumsum(prob_array)\n",
    "\n",
    "    # Generate a random number and find the corresponding event start time\n",
    "    rand_num = random.random()\n",
    "    for idx, cum_prob in enumerate(cumulative_probabilities):\n",
    "        if rand_num < cum_prob:\n",
    "            start = idx\n",
    "            return start"
   ],
   "metadata": {
    "collapsed": false
   }
  },
  {
   "cell_type": "code",
   "execution_count": 50,
   "outputs": [],
   "source": [
    "def sample_duration(duration_lst):\n",
    "    duration = random.sample(duration_lst,1)[0]\n",
    "    return timedelta(minutes=duration)"
   ],
   "metadata": {
    "collapsed": false
   }
  },
  {
   "cell_type": "code",
   "execution_count": 51,
   "outputs": [],
   "source": [
    "def sample_appliance_count(prob_dict):\n",
    "    \"\"\"\n",
    "    Sample an occurrence count based on the given probability distribution.\n",
    "\n",
    "    :param prob_dict: A dictionary where keys are occurrence counts and values are the corresponding probabilities.\n",
    "    :return: The sampled occurrence count.\n",
    "    \"\"\"\n",
    "    # Generate a list of cumulative probabilities\n",
    "    cumulative_probabilities = []\n",
    "    cumulative_sum = 0\n",
    "    for count, prob in prob_dict.items():\n",
    "        cumulative_sum += prob\n",
    "        cumulative_probabilities.append((cumulative_sum, count))\n",
    "\n",
    "    # Generate a random number and find the corresponding occurrence count\n",
    "    rand_num = random.random()\n",
    "    for cum_prob, count in cumulative_probabilities:\n",
    "        if rand_num < cum_prob:\n",
    "            return count"
   ],
   "metadata": {
    "collapsed": false
   }
  },
  {
   "cell_type": "code",
   "execution_count": 94,
   "outputs": [],
   "source": [
    "appliance_time = {}\n",
    "appliance_lst = [\"kettle\",\"breadmaker\",\"gas\",\"microwave\",\"toaster\"]\n",
    "for i in appliance_lst:\n",
    "    appliance_time[i]=[]\n",
    "activity_labels = []"
   ],
   "metadata": {
    "collapsed": false
   }
  },
  {
   "cell_type": "code",
   "execution_count": 97,
   "outputs": [
    {
     "name": "stdout",
     "output_type": "stream",
     "text": [
      "2024-09-04 19:17:00\n",
      "2024-09-05 08:32:00\n",
      "2024-09-05 07:29:00\n",
      "2024-09-05 19:36:00\n",
      "2024-09-05 12:10:00\n",
      "2024-09-05 11:08:00\n",
      "2024-09-06 07:56:00\n",
      "2024-09-06 17:16:00\n",
      "2024-09-07 18:01:00\n",
      "2024-09-07 18:22:00\n",
      "2024-09-08 08:33:00\n",
      "2024-09-08 17:15:00\n",
      "2024-09-08 15:32:00\n",
      "2024-09-08 07:57:00\n",
      "2024-09-08 18:03:00\n",
      "2024-09-08 12:53:00\n",
      "2024-09-08 17:04:00\n",
      "2024-09-08 19:36:00\n",
      "2024-09-09 17:58:00\n",
      "2024-09-09 07:40:00\n",
      "2024-09-09 17:49:00\n",
      "2024-09-09 16:59:00\n",
      "2024-09-09 11:15:00\n",
      "2024-09-09 17:37:00\n",
      "2024-09-10 08:02:00\n",
      "2024-09-10 11:14:00\n",
      "2024-09-10 11:29:00\n",
      "2024-09-10 17:44:00\n",
      "2024-09-10 12:10:00\n",
      "2024-09-10 11:26:00\n",
      "2024-09-11 08:20:00\n",
      "2024-09-11 15:10:00\n",
      "2024-09-12 07:48:00\n",
      "2024-09-12 08:26:00\n",
      "2024-09-12 14:26:00\n",
      "2024-09-12 19:42:00\n",
      "2024-09-13 08:47:00\n",
      "2024-09-13 20:10:00\n",
      "2024-09-13 08:56:00\n",
      "2024-09-14 01:02:00\n",
      "2024-09-14 12:36:00\n",
      "2024-09-15 06:45:00\n",
      "2024-09-15 13:55:00\n",
      "2024-09-15 17:57:00\n",
      "2024-09-15 12:47:00\n",
      "2024-09-16 20:47:00\n",
      "2024-09-16 07:00:00\n",
      "2024-09-16 20:17:00\n",
      "2024-09-16 10:55:00\n",
      "2024-09-16 17:51:00\n",
      "2024-09-16 19:14:00\n",
      "2024-09-17 08:06:00\n",
      "2024-09-17 18:46:00\n",
      "2024-09-17 08:47:00\n",
      "2024-09-17 17:59:00\n",
      "2024-09-18 08:34:00\n",
      "2024-09-18 07:21:00\n",
      "2024-09-18 17:10:00\n",
      "2024-09-19 08:27:00\n",
      "2024-09-19 11:52:00\n",
      "2024-09-19 17:33:00\n",
      "2024-09-19 01:12:00\n",
      "2024-09-20 12:57:00\n",
      "2024-09-20 18:19:00\n",
      "2024-09-20 11:52:00\n",
      "2024-09-21 12:50:00\n",
      "2024-09-21 08:28:00\n",
      "2024-09-21 17:00:00\n",
      "2024-09-21 12:39:00\n",
      "2024-09-22 14:47:00\n",
      "2024-09-22 16:19:00\n",
      "2024-09-23 14:11:00\n",
      "2024-09-23 18:07:00\n",
      "2024-09-23 18:57:00\n",
      "2024-09-24 08:13:00\n",
      "2024-09-24 20:40:00\n",
      "2024-09-24 07:40:00\n",
      "2024-09-24 17:23:00\n",
      "2024-09-24 12:57:00\n",
      "2024-09-25 07:09:00\n",
      "2024-09-25 12:09:00\n",
      "2024-09-26 21:20:00\n",
      "2024-09-26 12:34:00\n",
      "2024-09-26 11:34:00\n",
      "2024-09-27 08:24:00\n",
      "2024-09-27 21:23:00\n",
      "2024-09-27 20:00:00\n",
      "2024-09-29 12:30:00\n",
      "2024-09-29 17:48:00\n",
      "2024-09-29 14:08:00\n",
      "2024-09-30 07:25:00\n",
      "2024-09-30 17:50:00\n",
      "2024-09-30 17:52:00\n",
      "2024-09-30 17:55:00\n",
      "2024-09-30 12:44:00\n",
      "2024-09-30 09:35:00\n",
      "2024-10-01 11:14:00\n",
      "2024-10-01 13:47:00\n",
      "2024-10-01 09:44:00\n",
      "2024-10-01 12:29:00\n",
      "2024-10-02 08:09:00\n",
      "2024-10-02 09:23:00\n",
      "2024-10-03 09:27:00\n",
      "2024-10-04 14:57:00\n",
      "2024-10-04 13:23:00\n",
      "2024-10-04 17:38:00\n",
      "2024-10-04 10:41:00\n",
      "2024-10-05 06:05:00\n",
      "2024-10-05 16:06:00\n",
      "2024-10-05 08:37:00\n",
      "2024-10-06 11:18:00\n",
      "2024-10-06 10:37:00\n",
      "2024-10-06 11:57:00\n",
      "2024-10-06 15:35:00\n",
      "2024-10-07 21:29:00\n",
      "2024-10-07 14:57:00\n",
      "2024-10-07 17:43:00\n",
      "2024-10-07 15:05:00\n",
      "2024-10-07 17:10:00\n",
      "2024-10-07 12:17:00\n",
      "2024-10-08 08:54:00\n",
      "2024-10-08 21:43:00\n",
      "2024-10-08 12:47:00\n",
      "2024-10-08 16:40:00\n",
      "2024-10-08 20:59:00\n",
      "2024-10-08 20:34:00\n",
      "2024-10-09 17:18:00\n",
      "2024-10-09 02:33:00\n",
      "2024-10-10 17:24:00\n",
      "2024-10-10 15:44:00\n",
      "2024-10-10 16:02:00\n",
      "2024-10-10 15:20:00\n",
      "2024-10-10 11:57:00\n",
      "2024-10-10 22:06:00\n",
      "2024-10-10 20:32:00\n",
      "2024-10-11 16:48:00\n",
      "2024-10-11 17:27:00\n",
      "2024-10-11 13:44:00\n",
      "2024-10-11 12:55:00\n",
      "2024-10-11 02:25:00\n",
      "2024-10-12 08:45:00\n",
      "2024-10-12 12:39:00\n",
      "2024-10-12 18:23:00\n",
      "2024-10-12 20:23:00\n",
      "2024-10-13 21:37:00\n",
      "2024-10-13 07:17:00\n",
      "2024-10-13 15:24:00\n",
      "2024-10-13 20:01:00\n",
      "2024-10-13 12:52:00\n",
      "2024-10-14 17:24:00\n",
      "2024-10-14 12:29:00\n",
      "2024-10-15 17:06:00\n",
      "2024-10-15 07:29:00\n",
      "2024-10-15 11:53:00\n",
      "2024-10-15 05:00:00\n",
      "2024-10-15 14:11:00\n",
      "2024-10-15 09:59:00\n",
      "2024-10-15 18:49:00\n",
      "2024-10-15 10:04:00\n",
      "2024-10-15 11:15:00\n",
      "2024-10-16 07:26:00\n",
      "2024-10-16 13:24:00\n",
      "2024-10-16 18:53:00\n",
      "2024-10-16 18:41:00\n",
      "2024-10-17 07:18:00\n",
      "2024-10-17 21:05:00\n",
      "2024-10-17 09:21:00\n",
      "2024-10-17 14:27:00\n",
      "2024-10-18 06:33:00\n",
      "2024-10-18 17:30:00\n",
      "2024-10-18 07:00:00\n",
      "2024-10-18 18:19:00\n",
      "2024-10-18 21:28:00\n",
      "2024-10-18 17:26:00\n",
      "2024-10-18 11:22:00\n",
      "2024-10-19 06:35:00\n",
      "2024-10-19 18:22:00\n",
      "2024-10-19 20:38:00\n",
      "2024-10-21 19:45:00\n",
      "2024-10-21 12:51:00\n",
      "2024-10-21 21:26:00\n",
      "2024-10-22 17:27:00\n",
      "2024-10-23 07:33:00\n",
      "2024-10-23 13:00:00\n",
      "2024-10-23 09:48:00\n",
      "2024-10-24 13:22:00\n",
      "2024-10-24 13:18:00\n",
      "2024-10-24 08:37:00\n",
      "2024-10-24 16:20:00\n",
      "2024-10-26 07:40:00\n",
      "2024-10-26 10:57:00\n",
      "2024-10-26 07:31:00\n",
      "2024-10-27 07:40:00\n",
      "2024-10-27 07:09:00\n",
      "2024-10-27 08:17:00\n",
      "2024-10-27 17:11:00\n",
      "2024-10-27 12:24:00\n",
      "2024-10-27 21:32:00\n",
      "2024-10-27 02:43:00\n",
      "2024-10-28 17:02:00\n",
      "2024-10-28 15:14:00\n",
      "2024-10-28 16:39:00\n",
      "2024-10-28 20:27:00\n",
      "2024-10-29 09:55:00\n",
      "2024-10-30 07:15:00\n",
      "2024-10-30 08:25:00\n",
      "2024-10-30 20:27:00\n",
      "2024-10-30 13:45:00\n",
      "2024-10-30 15:49:00\n",
      "2024-10-31 08:40:00\n",
      "2024-10-31 15:39:00\n",
      "2024-10-31 13:16:00\n",
      "2024-11-01 08:34:00\n",
      "2024-11-01 07:21:00\n",
      "2024-11-01 13:54:00\n",
      "2024-11-01 08:39:00\n",
      "2024-11-01 19:20:00\n",
      "2024-11-01 12:16:00\n",
      "2024-11-02 06:19:00\n",
      "2024-11-02 13:10:00\n",
      "2024-11-02 18:15:00\n",
      "2024-11-02 21:11:00\n",
      "2024-11-03 06:21:00\n",
      "2024-11-03 09:10:00\n",
      "2024-11-03 10:56:00\n",
      "2024-11-03 18:37:00\n",
      "2024-11-03 12:15:00\n",
      "2024-11-03 18:42:00\n",
      "2024-11-03 16:48:00\n",
      "2024-11-03 04:52:00\n",
      "2024-11-04 17:16:00\n",
      "2024-11-04 09:42:00\n",
      "2024-11-04 12:39:00\n",
      "2024-11-05 06:02:00\n",
      "2024-11-05 21:26:00\n",
      "2024-11-05 21:45:00\n",
      "2024-11-05 08:45:00\n",
      "2024-11-05 11:02:00\n",
      "2024-11-05 05:34:00\n",
      "2024-11-06 08:55:00\n",
      "2024-11-06 19:08:00\n",
      "2024-11-06 17:04:00\n",
      "2024-11-06 12:02:00\n",
      "2024-11-08 10:10:00\n",
      "2024-11-09 07:54:00\n",
      "2024-11-09 09:02:00\n",
      "2024-11-09 19:09:00\n",
      "2024-11-09 14:52:00\n",
      "2024-11-10 06:06:00\n",
      "2024-11-10 14:51:00\n",
      "2024-11-10 18:25:00\n",
      "2024-11-11 14:29:00\n",
      "2024-11-11 12:05:00\n",
      "2024-11-11 06:05:00\n",
      "2024-11-12 07:53:00\n",
      "2024-11-12 08:10:00\n",
      "2024-11-12 18:28:00\n",
      "2024-11-12 20:10:00\n",
      "2024-11-13 20:29:00\n",
      "2024-11-13 11:58:00\n",
      "2024-11-13 16:51:00\n",
      "2024-11-13 16:23:00\n",
      "2024-11-13 17:04:00\n",
      "2024-11-13 17:41:00\n",
      "2024-11-14 07:47:00\n",
      "2024-11-14 07:05:00\n",
      "2024-11-14 17:21:00\n",
      "2024-11-14 18:48:00\n",
      "2024-11-14 12:53:00\n",
      "2024-11-14 18:51:00\n",
      "2024-11-14 02:21:00\n",
      "2024-11-15 17:35:00\n",
      "2024-11-15 11:59:00\n",
      "2024-11-15 18:38:00\n",
      "2024-11-15 12:56:00\n",
      "2024-11-16 08:27:00\n",
      "2024-11-16 09:00:00\n",
      "2024-11-16 20:58:00\n",
      "2024-11-17 18:55:00\n",
      "2024-11-17 07:45:00\n",
      "2024-11-17 17:22:00\n",
      "2024-11-17 13:54:00\n",
      "2024-11-18 07:02:00\n",
      "2024-11-18 07:46:00\n",
      "2024-11-18 11:08:00\n",
      "2024-11-18 10:50:00\n",
      "2024-11-18 19:25:00\n",
      "2024-11-19 22:11:00\n",
      "2024-11-19 20:27:00\n",
      "2024-11-19 21:08:00\n",
      "2024-11-19 04:23:00\n",
      "2024-11-20 07:04:00\n",
      "2024-11-20 16:23:00\n",
      "2024-11-21 15:34:00\n",
      "2024-11-21 22:11:00\n",
      "2024-11-21 22:22:00\n",
      "2024-11-22 09:51:00\n",
      "2024-11-22 07:20:00\n",
      "2024-11-22 17:32:00\n",
      "2024-11-23 20:47:00\n",
      "2024-11-23 12:14:00\n",
      "2024-11-23 19:14:00\n",
      "2024-11-24 15:48:00\n",
      "2024-11-24 13:45:00\n",
      "2024-11-24 12:28:00\n",
      "2024-11-25 11:09:00\n",
      "2024-11-25 17:07:00\n",
      "2024-11-26 07:40:00\n",
      "2024-11-26 08:05:00\n",
      "2024-11-26 06:08:00\n",
      "2024-11-26 11:38:00\n",
      "2024-11-27 08:40:00\n",
      "2024-11-27 20:40:00\n",
      "2024-11-27 17:47:00\n",
      "2024-11-27 12:13:00\n",
      "2024-11-27 02:25:00\n",
      "2024-11-27 02:51:00\n",
      "2024-11-28 07:55:00\n",
      "2024-11-28 18:02:00\n",
      "2024-11-28 12:14:00\n",
      "2024-11-29 06:53:00\n",
      "2024-11-29 14:12:00\n",
      "2024-11-29 18:09:00\n",
      "2024-11-30 07:16:00\n",
      "2024-11-30 15:21:00\n",
      "2024-11-30 17:24:00\n",
      "2024-11-30 17:19:00\n",
      "2024-11-30 21:27:00\n",
      "2024-11-30 11:29:00\n",
      "2024-11-30 13:54:00\n",
      "2024-11-30 02:03:00\n",
      "2024-12-01 17:31:00\n",
      "2024-12-01 12:22:00\n",
      "2024-12-02 06:28:00\n",
      "2024-12-02 07:41:00\n",
      "2024-12-03 07:58:00\n",
      "2024-12-03 08:53:00\n",
      "2024-12-03 17:58:00\n",
      "2024-12-03 20:06:00\n",
      "2024-12-03 21:13:00\n",
      "2024-12-03 07:37:00\n",
      "2024-12-04 17:47:00\n",
      "2024-12-04 18:28:00\n",
      "2024-12-04 17:31:00\n",
      "2024-12-04 20:19:00\n",
      "2024-12-05 07:55:00\n",
      "2024-12-05 10:38:00\n",
      "2024-12-05 14:55:00\n",
      "2024-12-05 22:06:00\n",
      "2024-12-06 08:15:00\n",
      "2024-12-06 14:25:00\n",
      "2024-12-06 11:10:00\n",
      "2024-12-06 16:42:00\n",
      "2024-12-06 07:37:00\n",
      "2024-12-06 20:30:00\n",
      "2024-12-06 20:34:00\n",
      "2024-12-06 05:01:00\n",
      "2024-12-07 08:36:00\n",
      "2024-12-07 13:08:00\n",
      "2024-12-07 17:08:00\n",
      "2024-12-07 04:29:00\n",
      "2024-12-08 19:32:00\n",
      "2024-12-08 17:32:00\n",
      "2024-12-09 16:20:00\n",
      "2024-12-10 19:05:00\n",
      "2024-12-10 15:25:00\n",
      "2024-12-11 06:40:00\n",
      "2024-12-11 17:59:00\n",
      "2024-12-11 16:27:00\n",
      "2024-12-11 11:07:00\n",
      "2024-12-11 15:17:00\n",
      "2024-12-11 04:52:00\n",
      "2024-12-12 16:31:00\n",
      "2024-12-12 17:15:00\n"
     ]
    }
   ],
   "source": [
    "days = 100\n",
    "start_date = pd.to_datetime(\"2024-9-04 00:00:00\")\n",
    "\n",
    "for i in range(days):\n",
    "    activity_lst = [] # a list to check whether two activities overlap\n",
    "    for activity_index, p in enumerate(P): # sample occurrences of each activity pattern\n",
    "        o = sample_occurrences(p)\n",
    "        for m in range(o):\n",
    "            overlap = True\n",
    "            while overlap:\n",
    "                s = start_date+sample_start(T_p[activity_index])\n",
    "                d = sample_duration(D_p[activity_index])\n",
    "                e = s+d\n",
    "                if activity_lst == []: # check overlap\n",
    "                    overlap = False\n",
    "                else:\n",
    "                    for start, end in activity_lst: # check overlap\n",
    "                        if ((start>=s and e>=start) or (s>=end and end>=e)):\n",
    "                            overlap=True\n",
    "                        else:\n",
    "                            overlap=False\n",
    "            activity_lst.append((s,e))\n",
    "            print(s)\n",
    "            for ap, prob in C_a[activity_index].items():\n",
    "                c = sample_appliance_count(prob)\n",
    "                for n in range(c):\n",
    "                    appliance_start_time = int(sample_relative_usage_time(U_a[activity_index][ap])*d.seconds)\n",
    "                    u_s = s+timedelta(seconds=appliance_start_time)\n",
    "                    appliance_time[ap].append(u_s)\n",
    "    activity_labels.append(activity_lst)\n",
    "    start_date+=timedelta(days=1)"
   ],
   "metadata": {
    "collapsed": false
   }
  },
  {
   "cell_type": "code",
   "execution_count": 102,
   "outputs": [
    {
     "data": {
      "text/plain": "[(Timestamp('2024-09-04 08:40:00'), Timestamp('2024-09-04 09:03:00')),\n (Timestamp('2024-09-04 09:04:00'), Timestamp('2024-09-04 10:08:00')),\n (Timestamp('2024-09-04 13:44:00'), Timestamp('2024-09-04 13:45:00')),\n (Timestamp('2024-09-04 11:47:00'), Timestamp('2024-09-04 11:51:00')),\n (Timestamp('2024-09-04 16:38:00'), Timestamp('2024-09-04 17:20:00'))]"
     },
     "execution_count": 102,
     "metadata": {},
     "output_type": "execute_result"
    }
   ],
   "source": [
    "activity_labels[0]"
   ],
   "metadata": {
    "collapsed": false
   }
  },
  {
   "cell_type": "code",
   "execution_count": 106,
   "outputs": [],
   "source": [
    "activity_labels = [(j[0], j[1]) for i in activity_labels for j in i]"
   ],
   "metadata": {
    "collapsed": false
   }
  },
  {
   "cell_type": "code",
   "execution_count": 2,
   "outputs": [
    {
     "ename": "NameError",
     "evalue": "name 'pickle' is not defined",
     "output_type": "error",
     "traceback": [
      "\u001B[1;31m---------------------------------------------------------------------------\u001B[0m",
      "\u001B[1;31mNameError\u001B[0m                                 Traceback (most recent call last)",
      "\u001B[1;32m~\\AppData\\Local\\Temp/ipykernel_6508/596213809.py\u001B[0m in \u001B[0;36m<module>\u001B[1;34m\u001B[0m\n\u001B[0;32m      1\u001B[0m \u001B[0mactivity_name\u001B[0m \u001B[1;33m=\u001B[0m \u001B[1;34m\"cleaning\"\u001B[0m\u001B[1;33m\u001B[0m\u001B[1;33m\u001B[0m\u001B[0m\n\u001B[0;32m      2\u001B[0m \u001B[1;32mwith\u001B[0m \u001B[0mopen\u001B[0m\u001B[1;33m(\u001B[0m\u001B[1;34mr'C:\\Users\\ASUS\\Desktop\\Few-shot NILM (2)\\activity_annotation\\stochastic model\\{}\\100days_appliance.pkl'\u001B[0m\u001B[1;33m.\u001B[0m\u001B[0mformat\u001B[0m\u001B[1;33m(\u001B[0m\u001B[0mactivity_name\u001B[0m\u001B[1;33m)\u001B[0m\u001B[1;33m,\u001B[0m\u001B[1;34m'wb'\u001B[0m\u001B[1;33m)\u001B[0m \u001B[1;32mas\u001B[0m \u001B[0mf\u001B[0m\u001B[1;33m:\u001B[0m\u001B[1;33m\u001B[0m\u001B[1;33m\u001B[0m\u001B[0m\n\u001B[1;32m----> 3\u001B[1;33m     \u001B[0mpickle\u001B[0m\u001B[1;33m.\u001B[0m\u001B[0mdump\u001B[0m\u001B[1;33m(\u001B[0m\u001B[0mappliance_time\u001B[0m\u001B[1;33m,\u001B[0m \u001B[0mf\u001B[0m\u001B[1;33m)\u001B[0m\u001B[1;33m\u001B[0m\u001B[1;33m\u001B[0m\u001B[0m\n\u001B[0m",
      "\u001B[1;31mNameError\u001B[0m: name 'pickle' is not defined"
     ]
    }
   ],
   "source": [
    "activity_name = \"cleaning\"\n",
    "with open(r'C:\\Users\\ASUS\\Desktop\\Few-shot NILM (2)\\activity_annotation\\stochastic model\\{}\\100days_appliance.pkl'.format(activity_name),'wb') as f:\n",
    "    pickle.dump(appliance_time, f)"
   ],
   "metadata": {
    "collapsed": false
   }
  },
  {
   "cell_type": "code",
   "execution_count": 113,
   "outputs": [],
   "source": [
    "with open(r'C:\\Users\\ASUS\\Desktop\\Few-shot NILM (2)\\activity_annotation\\stochastic model\\cooking\\100days_labels.pkl','wb') as f:\n",
    "    pickle.dump(activity_labels, f)"
   ],
   "metadata": {
    "collapsed": false
   }
  },
  {
   "cell_type": "code",
   "execution_count": 137,
   "outputs": [
    {
     "data": {
      "text/plain": "dict_keys(['kettle', 'breadmaker', 'gas', 'microwave', 'toaster'])"
     },
     "execution_count": 137,
     "metadata": {},
     "output_type": "execute_result"
    }
   ],
   "source": [
    "appliance_time.keys()"
   ],
   "metadata": {
    "collapsed": false
   }
  },
  {
   "cell_type": "markdown",
   "source": [
    "# build load profile"
   ],
   "metadata": {
    "collapsed": false
   }
  },
  {
   "cell_type": "code",
   "execution_count": 228,
   "outputs": [],
   "source": [
    "appliance = 'microwave'"
   ],
   "metadata": {
    "collapsed": false
   }
  },
  {
   "cell_type": "code",
   "execution_count": 229,
   "outputs": [],
   "source": [
    "import pickle\n",
    "def load_appliance_traces(appliance_lst):\n",
    "    data = {}\n",
    "    for appliance in appliance_lst:\n",
    "        with open(r'C:\\Users\\ASUS\\Desktop\\Few-shot NILM (2)\\activity_annotation\\time_data\\cooking\\{}.pkl'.format(appliance), 'rb') as f:\n",
    "            data[appliance] = pickle.load(f)\n",
    "    return data"
   ],
   "metadata": {
    "collapsed": false
   }
  },
  {
   "cell_type": "code",
   "execution_count": 230,
   "outputs": [],
   "source": [
    "appliance_lst = [\"kettle\",\"breadmaker\",\"gas\",\"microwave\",\"toaster\"]\n",
    "\n",
    "appliance_load = load_appliance_traces(appliance_lst)"
   ],
   "metadata": {
    "collapsed": false
   }
  },
  {
   "cell_type": "code",
   "execution_count": 231,
   "outputs": [
    {
     "data": {
      "text/plain": "1376"
     },
     "execution_count": 231,
     "metadata": {},
     "output_type": "execute_result"
    }
   ],
   "source": [
    "len(appliance_load[appliance])"
   ],
   "metadata": {
    "collapsed": false
   }
  },
  {
   "cell_type": "code",
   "execution_count": 232,
   "outputs": [
    {
     "name": "stdout",
     "output_type": "stream",
     "text": [
      "                          active\n",
      "Date                            \n",
      "2013-05-01 06:26:30   940.400024\n",
      "2013-05-01 06:27:00  2337.800049\n",
      "2013-05-01 06:27:30  2394.399902\n",
      "2013-05-01 06:28:00  2331.333252\n",
      "2013-05-01 06:28:30   464.399994\n"
     ]
    }
   ],
   "source": [
    "print(appliance_load[\"kettle\"][0])"
   ],
   "metadata": {
    "collapsed": false
   }
  },
  {
   "cell_type": "code",
   "execution_count": 233,
   "outputs": [],
   "source": [
    "# Construct the dataset using 10 shot"
   ],
   "metadata": {
    "collapsed": false
   }
  },
  {
   "cell_type": "code",
   "execution_count": 234,
   "outputs": [],
   "source": [
    "continuous_data_total = appliance_load[appliance]\n",
    "length_total = [len(i) for i in continuous_data_total]"
   ],
   "metadata": {
    "collapsed": false
   }
  },
  {
   "cell_type": "code",
   "execution_count": 235,
   "outputs": [
    {
     "data": {
      "text/plain": "<Figure size 720x360 with 1 Axes>",
      "image/png": "[encoded data removed]"
     },
     "metadata": {
      "needs_background": "light"
     },
     "output_type": "display_data"
    }
   ],
   "source": [
    "plt.figure(figsize=(10,5))\n",
    "from collections import Counter\n",
    "Counter(length_total)\n",
    "sorted_counter = dict(sorted(Counter(length_total).items()))\n",
    "\n",
    "plt.plot(list(sorted_counter.keys()), list(sorted_counter.values()))\n",
    "plt.show()"
   ],
   "metadata": {
    "collapsed": false
   }
  },
  {
   "cell_type": "code",
   "execution_count": 236,
   "outputs": [],
   "source": [
    "remained_index = []\n",
    "for index, value in enumerate(length_total):\n",
    "    if value<=35: #每个用电器状态运行长度！！！\n",
    "        remained_index.append(index)\n",
    "continuous_data_total = [v for i, v in enumerate(continuous_data_total) if i in remained_index]\n",
    "length_total = [v for i, v in enumerate(length_total) if i in remained_index]"
   ],
   "metadata": {
    "collapsed": false
   }
  },
  {
   "cell_type": "code",
   "execution_count": 237,
   "outputs": [],
   "source": [
    "target_length = 35\n",
    "equal_length = []\n",
    "for df in continuous_data_total:\n",
    "    if len(df) <target_length:\n",
    "        df = pd.concat([df, pd.DataFrame([0]*(target_length-len(df)),columns=[\"active\"])])\n",
    "        equal_length.append(df.values)"
   ],
   "metadata": {
    "collapsed": false
   }
  },
  {
   "cell_type": "code",
   "execution_count": 238,
   "outputs": [
    {
     "name": "stdout",
     "output_type": "stream",
     "text": [
      "1375\n"
     ]
    }
   ],
   "source": [
    "print(len(equal_length))"
   ],
   "metadata": {
    "collapsed": false
   }
  },
  {
   "cell_type": "code",
   "execution_count": 242,
   "outputs": [],
   "source": [
    "for i in range(10,51,10):\n",
    "    np.save(r\"C:\\Users\\ASUS\\Desktop\\Few-shot NILM (2)\\gan_training\\rtsgan\\training_data\\cooking\\{}\\{}_{}\".format(appliance,appliance, i),equal_length[:i])"
   ],
   "metadata": {
    "collapsed": false
   }
  },
  {
   "cell_type": "markdown",
   "source": [
    "# construct_df"
   ],
   "metadata": {
    "collapsed": false
   }
  },
  {
   "cell_type": "code",
   "execution_count": 245,
   "outputs": [],
   "source": [
    "sample_num = 10\n",
    "\n",
    "def load_appliance_traces(appliance_lst, sample_num):\n",
    "    data = {}\n",
    "    for appliance in appliance_lst:\n",
    "        np_array = np.load(r'C:\\Users\\ASUS\\Desktop\\Few-shot NILM (2)\\gan_training\\rtsgan\\training_data\\cooking\\{}\\{}_{}.npy'.format(appliance,appliance,sample_num))\n",
    "        data[appliance] = np_array\n",
    "    return data"
   ],
   "metadata": {
    "collapsed": false
   }
  },
  {
   "cell_type": "code",
   "execution_count": 251,
   "outputs": [],
   "source": [
    "appliance_data = load_appliance_traces(appliance_lst, sample_num)"
   ],
   "metadata": {
    "collapsed": false
   }
  },
  {
   "cell_type": "code",
   "execution_count": 263,
   "outputs": [],
   "source": [
    "with open(r'C:\\Users\\ASUS\\Desktop\\Few-shot NILM (2)\\activity_annotation\\stochastic model\\cooking\\100days_appliance.pkl',\n",
    "          'rb') as f:\n",
    "    appliance_time_dic = pickle.load(f)\n",
    "with open(r'C:\\Users\\ASUS\\Desktop\\Few-shot NILM (2)\\activity_annotation\\stochastic model\\cooking\\100days_labels.pkl',\n",
    "          'rb') as f:\n",
    "    activity_labels = pickle.load(f)"
   ],
   "metadata": {
    "collapsed": false
   }
  },
  {
   "cell_type": "code",
   "execution_count": 262,
   "outputs": [
    {
     "data": {
      "text/plain": "array([[[1612.5       ],\n        [1599.        ],\n        [   0.        ],\n        [   0.        ],\n        [   0.        ],\n        [   0.        ],\n        [   0.        ],\n        [   0.        ],\n        [   0.        ],\n        [   0.        ],\n        [   0.        ],\n        [   0.        ],\n        [   0.        ],\n        [   0.        ],\n        [   0.        ],\n        [   0.        ],\n        [   0.        ],\n        [   0.        ],\n        [   0.        ],\n        [   0.        ],\n        [   0.        ],\n        [   0.        ],\n        [   0.        ],\n        [   0.        ],\n        [   0.        ]],\n\n       [[1285.40002441],\n        [ 978.        ],\n        [ 401.25      ],\n        [ 952.20001221],\n        [   0.        ],\n        [   0.        ],\n        [   0.        ],\n        [   0.        ],\n        [   0.        ],\n        [   0.        ],\n        [   0.        ],\n        [   0.        ],\n        [   0.        ],\n        [   0.        ],\n        [   0.        ],\n        [   0.        ],\n        [   0.        ],\n        [   0.        ],\n        [   0.        ],\n        [   0.        ],\n        [   0.        ],\n        [   0.        ],\n        [   0.        ],\n        [   0.        ],\n        [   0.        ]],\n\n       [[ 437.        ],\n        [ 927.59997559],\n        [   0.        ],\n        [   0.        ],\n        [   0.        ],\n        [   0.        ],\n        [   0.        ],\n        [   0.        ],\n        [   0.        ],\n        [   0.        ],\n        [   0.        ],\n        [   0.        ],\n        [   0.        ],\n        [   0.        ],\n        [   0.        ],\n        [   0.        ],\n        [   0.        ],\n        [   0.        ],\n        [   0.        ],\n        [   0.        ],\n        [   0.        ],\n        [   0.        ],\n        [   0.        ],\n        [   0.        ],\n        [   0.        ]],\n\n       [[ 327.        ],\n        [1627.        ],\n        [ 683.59997559],\n        [   0.        ],\n        [   0.        ],\n        [   0.        ],\n        [   0.        ],\n        [   0.        ],\n        [   0.        ],\n        [   0.        ],\n        [   0.        ],\n        [   0.        ],\n        [   0.        ],\n        [   0.        ],\n        [   0.        ],\n        [   0.        ],\n        [   0.        ],\n        [   0.        ],\n        [   0.        ],\n        [   0.        ],\n        [   0.        ],\n        [   0.        ],\n        [   0.        ],\n        [   0.        ],\n        [   0.        ]],\n\n       [[ 407.3999939 ],\n        [ 677.79998779],\n        [ 466.25      ],\n        [ 666.79998779],\n        [   0.        ],\n        [   0.        ],\n        [   0.        ],\n        [   0.        ],\n        [   0.        ],\n        [   0.        ],\n        [   0.        ],\n        [   0.        ],\n        [   0.        ],\n        [   0.        ],\n        [   0.        ],\n        [   0.        ],\n        [   0.        ],\n        [   0.        ],\n        [   0.        ],\n        [   0.        ],\n        [   0.        ],\n        [   0.        ],\n        [   0.        ],\n        [   0.        ],\n        [   0.        ]],\n\n       [[ 403.3999939 ],\n        [ 489.5       ],\n        [   0.        ],\n        [   0.        ],\n        [   0.        ],\n        [   0.        ],\n        [   0.        ],\n        [   0.        ],\n        [   0.        ],\n        [   0.        ],\n        [   0.        ],\n        [   0.        ],\n        [   0.        ],\n        [   0.        ],\n        [   0.        ],\n        [   0.        ],\n        [   0.        ],\n        [   0.        ],\n        [   0.        ],\n        [   0.        ],\n        [   0.        ],\n        [   0.        ],\n        [   0.        ],\n        [   0.        ],\n        [   0.        ]],\n\n       [[ 553.5       ],\n        [ 438.        ],\n        [ 616.5       ],\n        [ 385.79998779],\n        [ 366.79998779],\n        [1315.59997559],\n        [1569.        ],\n        [   0.        ],\n        [   0.        ],\n        [   0.        ],\n        [   0.        ],\n        [   0.        ],\n        [   0.        ],\n        [   0.        ],\n        [   0.        ],\n        [   0.        ],\n        [   0.        ],\n        [   0.        ],\n        [   0.        ],\n        [   0.        ],\n        [   0.        ],\n        [   0.        ],\n        [   0.        ],\n        [   0.        ],\n        [   0.        ]],\n\n       [[1606.80004883],\n        [1383.25      ],\n        [   0.        ],\n        [   0.        ],\n        [   0.        ],\n        [   0.        ],\n        [   0.        ],\n        [   0.        ],\n        [   0.        ],\n        [   0.        ],\n        [   0.        ],\n        [   0.        ],\n        [   0.        ],\n        [   0.        ],\n        [   0.        ],\n        [   0.        ],\n        [   0.        ],\n        [   0.        ],\n        [   0.        ],\n        [   0.        ],\n        [   0.        ],\n        [   0.        ],\n        [   0.        ],\n        [   0.        ],\n        [   0.        ]],\n\n       [[ 547.5       ],\n        [1607.5       ],\n        [ 363.20001221],\n        [   0.        ],\n        [   0.        ],\n        [   0.        ],\n        [   0.        ],\n        [   0.        ],\n        [   0.        ],\n        [   0.        ],\n        [   0.        ],\n        [   0.        ],\n        [   0.        ],\n        [   0.        ],\n        [   0.        ],\n        [   0.        ],\n        [   0.        ],\n        [   0.        ],\n        [   0.        ],\n        [   0.        ],\n        [   0.        ],\n        [   0.        ],\n        [   0.        ],\n        [   0.        ],\n        [   0.        ]],\n\n       [[ 463.25      ],\n        [ 447.75      ],\n        [ 366.6000061 ],\n        [ 495.75      ],\n        [ 616.        ],\n        [ 488.25      ],\n        [ 568.        ],\n        [ 829.25      ],\n        [ 481.75      ],\n        [ 673.79998779],\n        [ 449.75      ],\n        [ 490.25      ],\n        [   0.        ],\n        [   0.        ],\n        [   0.        ],\n        [   0.        ],\n        [   0.        ],\n        [   0.        ],\n        [   0.        ],\n        [   0.        ],\n        [   0.        ],\n        [   0.        ],\n        [   0.        ],\n        [   0.        ],\n        [   0.        ]]])"
     },
     "execution_count": 262,
     "metadata": {},
     "output_type": "execute_result"
    }
   ],
   "source": [
    "appliance_data[\"kettle\"]"
   ],
   "metadata": {
    "collapsed": false
   }
  },
  {
   "cell_type": "code",
   "execution_count": null,
   "outputs": [],
   "source": [
    "import pandas as pd\n",
    "import numpy as np\n",
    "from datetime import datetime, timedelta\n",
    "\n",
    "# 创建时间序列\n",
    "start_date = '2024-09-04'\n",
    "end_date = '2024-12-12 17:15:00'\n",
    "date_range = pd.date_range(start=start_date, end=end_date, freq='30S')\n",
    "df = pd.DataFrame(index=date_range, data=0)\n",
    "\n",
    "\n",
    "# 遍历用电器，插入数据\n",
    "for appliance, times in appliance_time_dic.items():\n",
    "    for start_time in times:\n",
    "        # 获取对应的时间序列\n",
    "        time_series = appliance_data.get(appliance, np.zeros(100))\n",
    "        # 计算结束时间\n",
    "        end_time = start_time + timedelta(seconds=len(time_series) * 30)\n",
    "        # 在DataFrame中插入数据\n",
    "        df.loc[start_time:end_time, appliance] = time_series[:len(df.loc[start_time:end_time])]\n",
    "\n",
    "df.head()  # 显示DataFrame的前几行以检查结果\n"
   ],
   "metadata": {
    "collapsed": false
   }
  }
 ],
 "metadata": {
  "kernelspec": {
   "display_name": "Python 3",
   "language": "python",
   "name": "python3"
  },
  "language_info": {
   "codemirror_mode": {
    "name": "ipython",
    "version": 2
   },
   "file_extension": ".py",
   "mimetype": "text/x-python",
   "name": "python",
   "nbconvert_exporter": "python",
   "pygments_lexer": "ipython2",
   "version": "2.7.6"
  }
 },
 "nbformat": 4,
 "nbformat_minor": 0
}
